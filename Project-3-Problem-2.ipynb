{
 "cells": [
  {
   "cell_type": "markdown",
   "id": "31acd069-b856-4ed6-a42a-58f3b6fab2e2",
   "metadata": {},
   "source": "# **Project 3 Group 4 Problem 2**"
  },
  {
   "cell_type": "code",
   "id": "410be082-72f4-4c7b-a8f5-20cbb1803b97",
   "metadata": {
    "ExecuteTime": {
     "end_time": "2025-10-28T19:11:58.307309Z",
     "start_time": "2025-10-28T19:11:58.304264Z"
    }
   },
   "source": [
    "# Implementing Mini Block Cipher with key size 16 bit and block size 16 bit (Task 1)\n",
    "# Includes: S-box, ShiftRows, Mix, AddRoundKey, Key expansion,\n",
    "# encrypt_round1/2, decrypt_round2/1, encrypt, decrypt,generation of plaintext-ciphertext pairs\n",
    "# MITM helpers, and MITM demo"
   ],
   "outputs": [],
   "execution_count": 118
  },
  {
   "cell_type": "code",
   "id": "676617d6-4ae2-4e1b-9d95-ec269daf0cf2",
   "metadata": {
    "ExecuteTime": {
     "end_time": "2025-10-28T19:11:58.337573Z",
     "start_time": "2025-10-28T19:11:58.334463Z"
    }
   },
   "source": [
    "# =============================\n",
    "# Cell 1 - Imports and Utilities\n",
    "# =============================\n",
    "import random\n",
    "from collections import defaultdict\n",
    "\n",
    "def split_words(x):\n",
    "    \"Splitting a 16-bit size word into 4 nibbles\"\n",
    "\n",
    "    return [ (x >> 12) & 0xF, (x >> 8) & 0xF, (x >> 4) & 0xF, x & 0xF ]\n",
    "\n",
    "def join_nibbles(nibs):\n",
    "    \"Joining 4 nibbles into a 16-bit integer\"\n",
    "    return ((nibs[0] & 0xF) << 12) | ((nibs[1] & 0xF) << 8) | ((nibs[2] & 0xF) << 4) | (nibs[3] & 0xF)"
   ],
   "outputs": [],
   "execution_count": 119
  },
  {
   "cell_type": "code",
   "id": "c49d25c7-1266-48f4-9ff7-ef3455cec521",
   "metadata": {
    "ExecuteTime": {
     "end_time": "2025-10-28T19:11:58.345946Z",
     "start_time": "2025-10-28T19:11:58.342828Z"
    }
   },
   "source": [
    "# =============================\n",
    "# Cell 2 - S-box and inverse S-box\n",
    "# =============================\n",
    "\n",
    "# 4-bit S-box (SAES)\n",
    "SBOX = [0x9,0x4,0xA,0xB,0xD,0x1,0x8,0x5,0x6,0x2,0x0,0x3,0xC,0xE,0xF,0x7]\n",
    "INV_SBOX = [0]*16\n",
    "for i,v in enumerate(SBOX):\n",
    "    INV_SBOX[v] = i\n",
    "\n",
    "def substitute(state):\n",
    "    \"Applying S-box to each nibble\"\n",
    "    return [SBOX[x & 0xF] for x in state]\n",
    "\n",
    "def inv_substitute(state):\n",
    "    \"Applying the inverse of S-box to each nibble\"\n",
    "    return [INV_SBOX[x & 0xF] for x in state]\n"
   ],
   "outputs": [],
   "execution_count": 120
  },
  {
   "cell_type": "code",
   "id": "8a53e10a-d757-41bc-a47f-6f5f0b731c70",
   "metadata": {
    "ExecuteTime": {
     "end_time": "2025-10-28T19:11:58.352874Z",
     "start_time": "2025-10-28T19:11:58.350394Z"
    }
   },
   "source": [
    "# =============================\n",
    "# Cell 3 - ShiftRows and inverse ShiftRows\n",
    "# =============================\n",
    "\n",
    "def shiftrows(state):\n",
    "    \"Swapping s2 and s3 in order to do the shiftrow\"\n",
    "    return [state[0], state[1], state[3], state[2]]\n",
    "\n",
    "def inv_shiftrows(state):\n",
    "    \"Applying the inverse of the shiftrows\"\n",
    "    return [state[0], state[1], state[3], state[2]]"
   ],
   "outputs": [],
   "execution_count": 121
  },
  {
   "cell_type": "code",
   "id": "54eb4abe-30de-4080-bc9d-db3066bd90fb",
   "metadata": {
    "ExecuteTime": {
     "end_time": "2025-10-28T19:11:58.361922Z",
     "start_time": "2025-10-28T19:11:58.357184Z"
    }
   },
   "source": [
    "# =============================\n",
    "# Cell 4 - MixColumns, Inverse MixColumns, and GF(16) Multiplication\n",
    "# =============================\n",
    "\n",
    "# GF(16) multiplication with modulo x^4 + x + 1 for SAES \n",
    "def gf_multiplication(a, b):\n",
    "    p = 0\n",
    "    for i in range(4):               \n",
    "        if (b >> i) & 1:\n",
    "            p ^= (a << i)\n",
    "    for i in range(7, 3, -1):        #  reduce modulo 0x13\n",
    "        if (p >> i) & 1:\n",
    "            p ^= 0x13 << (i - 4)\n",
    "    return p & 0xF\n",
    "\n",
    "# SAES Mix + InvMix (2x2) \n",
    "def mix(state):\n",
    "    \"SAES MixColumns - matrix [[1,4],[4,1]] over GF(16)\"\n",
    "    s0, s1, s2, s3 = [x & 0xF for x in state]\n",
    "    temp0 = (s0 ^ gf_multiplication(4, s2)) & 0xF\n",
    "    temp2 = (gf_multiplication(4, s0) ^ s2) & 0xF\n",
    "    temp1 = (s1 ^ gf_multiplication(4, s3)) & 0xF\n",
    "    temp3 = (gf_multiplication(4, s1) ^ s3) & 0xF\n",
    "    return [temp0, temp1, temp2, temp3]\n",
    "\n",
    "def inv_mix(state):\n",
    "    \"Inverse MixColumns - matrix [[1,4],[4,1]] over GF(16)\"\n",
    "    s0, s1, s2, s3 = [x & 0xF for x in state]\n",
    "    temp0 = (gf_multiplication(9, s0) ^ gf_multiplication(2, s2)) & 0xF\n",
    "    temp2 = (gf_multiplication(2, s0) ^ gf_multiplication(9, s2)) & 0xF\n",
    "    temp1 = (gf_multiplication(9, s1) ^ gf_multiplication(2, s3)) & 0xF\n",
    "    temp3 = (gf_multiplication(2, s1) ^ gf_multiplication(9, s3)) & 0xF\n",
    "    return [temp0, temp1, temp2, temp3]"
   ],
   "outputs": [],
   "execution_count": 122
  },
  {
   "cell_type": "code",
   "id": "5337d70c-4b49-4b56-8f08-2a6c980fbbc0",
   "metadata": {
    "ExecuteTime": {
     "end_time": "2025-10-28T19:11:58.369438Z",
     "start_time": "2025-10-28T19:11:58.366777Z"
    }
   },
   "source": [
    "# =============================\n",
    "# Cell 5 - AddRoundKey\n",
    "# =============================\n",
    "\n",
    "def add_round_key(state, round_key):\n",
    "    \"XORing the 4 nibbles with the round_key\"\n",
    "    key_nibs = split_words(round_key)\n",
    "    return [(state[i] ^ key_nibs[i]) & 0xF for i in range(4)]"
   ],
   "outputs": [],
   "execution_count": 123
  },
  {
   "cell_type": "code",
   "id": "9b84c6e8-b509-4192-b20b-dfb20146f1c4",
   "metadata": {
    "ExecuteTime": {
     "end_time": "2025-10-28T19:11:58.377452Z",
     "start_time": "2025-10-28T19:11:58.373692Z"
    }
   },
   "source": [
    "# =============================\n",
    "# Cell 6 - Key expansion\n",
    "# =============================\n",
    "\n",
    "def key_expansion(K):\n",
    "    # Splitting 16-bit key into two 8-bit words\n",
    "    word0 = (K >> 8) & 0xFF\n",
    "    word1 = K & 0xFF\n",
    "\n",
    "    # Making sure to round constants\n",
    "    RCONST1 = 0x80  # 1000 0000\n",
    "    RCONST2 = 0x30  # 0011 0000\n",
    "\n",
    "    # Swapping nibbles in an 8-bit word\n",
    "    def Rotate_Nibbles(b):  \n",
    "        return ((b << 4) | (b >> 4)) & 0xFF\n",
    "\n",
    "    # Applying 4-bit SBOX to each of the nibbles\n",
    "    def Sub_Nibbles(b):  \n",
    "        high_nibble = SBOX[(b >> 4) & 0xF]\n",
    "        low_nibble = SBOX[b & 0xF]\n",
    "        return ((high_nibble << 4) | low_nibble) & 0xFF\n",
    "\n",
    "    # Using the SAES schedule\n",
    "    word2 = word0 ^ RCONST1 ^ Sub_Nibbles(Rotate_Nibbles(word1))\n",
    "    word3 = word2 ^ word1\n",
    "    word4 = word2 ^ RCONST2 ^ Sub_Nibbles(Rotate_Nibbles(word3))\n",
    "    word5 = word3 ^ word4\n",
    "\n",
    "    # Rounding keys for the two round ciphers\n",
    "    K1 = (word2 << 8) | word3\n",
    "    K2 = (word4 << 8) | word5\n",
    "    return K1, K2\n"
   ],
   "outputs": [],
   "execution_count": 124
  },
  {
   "cell_type": "code",
   "id": "a1074d6a-529f-45fb-b5fe-ecc48e6d5943",
   "metadata": {
    "ExecuteTime": {
     "end_time": "2025-10-28T19:11:58.385263Z",
     "start_time": "2025-10-28T19:11:58.381637Z"
    }
   },
   "source": [
    "# =============================\n",
    "# Cell 7 - Round functions\n",
    "# =============================\n",
    "\n",
    "# Two rounds of encryption to get the ciphertext.\n",
    "def encrypt_round1(state_bits, K1):\n",
    "    \"encrypt_round1() using K1 -> i. Subsititute(); ii. Shift(); iii. Mix(); iv. AddRoundKey()\"\n",
    "    s = split_words(state_bits)\n",
    "    s = substitute(s)\n",
    "    s = shiftrows(s)\n",
    "    s = mix(s)\n",
    "    s = add_round_key(s, K1)\n",
    "    return join_nibbles(s)\n",
    "\n",
    "def encrypt_round2(state_bits, K2):\n",
    "    \"encrypt_round2() using K2 -> i. Subsititute(); ii. Shift() ; iii. AddRoundKey()\"\n",
    "    s = split_words(state_bits)\n",
    "    s = substitute(s)\n",
    "    s = shiftrows(s)\n",
    "    s = add_round_key(s, K2)\n",
    "    return join_nibbles(s)\n",
    "\n",
    "# Two rounds of decryption to recover the plaintext\n",
    "def decrypt_round2(state_bits, K2):\n",
    "    \"decrypt_round2() using K2 -> i. AddRoundKey(); ii. Shift(); iii. Subsititute()\"\n",
    "    s = split_words(state_bits)\n",
    "    s = add_round_key(s, K2)\n",
    "    s = inv_shiftrows(s)\n",
    "    s = inv_substitute(s)\n",
    "    return join_nibbles(s)\n",
    "\n",
    "def decrypt_round1(state_bits, K1):\n",
    "    \"decrypt_round1() using K1 -> i. AddRoundKey(); ii. Mix(); iii. Shift(); iv. Subsititute()\"\n",
    "    s = split_words(state_bits)\n",
    "    s = add_round_key(s, K1)\n",
    "    s = inv_mix(s)\n",
    "    s = inv_shiftrows(s)\n",
    "    s = inv_substitute(s)\n",
    "    return join_nibbles(s)\n",
    "\n"
   ],
   "outputs": [],
   "execution_count": 125
  },
  {
   "cell_type": "code",
   "id": "e4a9c2c0-ad70-4f95-89b2-20ec1acab8f9",
   "metadata": {
    "ExecuteTime": {
     "end_time": "2025-10-28T19:11:58.392192Z",
     "start_time": "2025-10-28T19:11:58.389360Z"
    }
   },
   "source": [
    "# =============================\n",
    "# Cell 8 - Full encryption and decryption \n",
    "# =============================\n",
    "\n",
    "def encrypt(plaintext, K):\n",
    "    \"Encrypting a 16-bit plaintext with 16-bit key in order to get a 16-bit ciphertext\"\n",
    "    K1, K2 = key_expansion(K)\n",
    "    intermediate_ciphertext = encrypt_round1(plaintext, K1)\n",
    "    ciphertext = encrypt_round2(intermediate_ciphertext, K2)\n",
    "    return ciphertext\n",
    "\n",
    "def decrypt(ciphertext, K):\n",
    "    \"Decrypting a 16-bit ciphertext with key in order to get the 16-bit plaintext\"\n",
    "    K1, K2 = key_expansion(K)\n",
    "    intermediate_plaintext = decrypt_round2(ciphertext, K2)\n",
    "    plaintext = decrypt_round1(intermediate_plaintext, K1)\n",
    "    return plaintext\n",
    "\n"
   ],
   "outputs": [],
   "execution_count": 126
  },
  {
   "cell_type": "code",
   "id": "5cf94bc2-363a-41b5-91b3-1b200fc6c95f",
   "metadata": {
    "ExecuteTime": {
     "end_time": "2025-10-28T19:11:58.401070Z",
     "start_time": "2025-10-28T19:11:58.396305Z"
    }
   },
   "source": [
    "\n",
    "# =============================\n",
    "# Cell 9 - Create at least 10 plaintext-ciphertext pairs\n",
    "# =============================\n",
    "\n",
    "def create_pairs(n=12, seed=None, *, format='hex', ensure_unique=True):\n",
    "    \"\"\"Creation of at least ten distinct plaintext–ciphertext pairs using random 16-bit keys.\n",
    "\n",
    "    Args:\n",
    "        n - Number of pairs to generate.\n",
    "        seed - Optional seed for reproducible results.\n",
    "        format - Representation for the returned values - 'hex', 'int', or 'bin'.\n",
    "        ensure_unique - Enforce unique (key, plaintext) combinations when True.\n",
    "\n",
    "    Returns:\n",
    "        list[dict[str, str | int]]: Generated pairs formatted per the selected representation.\n",
    "    \"\"\"\n",
    "    if n <= 0:\n",
    "        raise ValueError('n must be a positive integer')\n",
    "    if format not in {'hex', 'int', 'bin'}:\n",
    "        raise ValueError(\"format must be one of {'hex', 'int', 'bin'}\")\n",
    "\n",
    "    rng = random.Random(seed)\n",
    "    pairs = []\n",
    "    seen = set()\n",
    "\n",
    "    formatter = {\n",
    "        'hex': lambda value: f\"{value:04X}\",\n",
    "        'bin': lambda value: f\"{value:016b}\",\n",
    "        'int': lambda value: value,\n",
    "    }[format]\n",
    "    suffix = {'hex': 'hex', 'bin': 'bin', 'int': 'int'}[format]\n",
    "\n",
    "    while len(pairs) < n:\n",
    "        K = rng.randrange(0, 0x10000)\n",
    "        P = rng.randrange(0, 0x10000)\n",
    "\n",
    "        if ensure_unique:\n",
    "            if (K, P) in seen:\n",
    "                continue\n",
    "            seen.add((K, P))\n",
    "\n",
    "        C = encrypt(P, K)\n",
    "        K1, K2 = key_expansion(K)\n",
    "        pairs.append({\n",
    "            f'key_{suffix}': formatter(K),\n",
    "            f'K1_{suffix}': formatter(K1),\n",
    "            f'K2_{suffix}': formatter(K2),\n",
    "            f'plaintext_{suffix}': formatter(P),\n",
    "            f'ciphertext_{suffix}': formatter(C),\n",
    "        })\n",
    "\n",
    "    return pairs\n",
    "\n",
    "\n",
    "def create_pairs_hex(*args, **kwargs):\n",
    "    \"\"\"Compatibility helper that defaults to hexadecimal output.\n",
    "\n",
    "    This makes it convenient to request the legacy hex format when additional\n",
    "    args such as `ensure_unique` are provided.\n",
    "    \"\"\"\n",
    "    kwargs.setdefault('format', 'hex')\n",
    "    return create_pairs(*args, **kwargs)\n"
   ],
   "outputs": [],
   "execution_count": 127
  },
  {
   "cell_type": "code",
   "id": "1ba94c5f-eeab-4d19-9be3-17d4d5482a23",
   "metadata": {
    "ExecuteTime": {
     "end_time": "2025-10-28T19:11:58.408986Z",
     "start_time": "2025-10-28T19:11:58.405233Z"
    }
   },
   "source": [
    "\n",
    "# =============================\n",
    "# Cell 10 -  Display of the created plaintext-ciphertext pairs\n",
    "# =============================\n",
    "\n",
    "# Creating 12 distinct plaintext–ciphertext pairs and displaying them in hex format\n",
    "pairs_hex = create_pairs(12, seed=12345, ensure_unique=True)  # seed in order to keep repeating\n",
    "for row in pairs_hex:\n",
    "    print(row)\n",
    "\n",
    "# Displaying the same pairs in binary format\n",
    "print()\n",
    "print('Sample pairs in binary format:')\n",
    "for row in create_pairs(12, seed=54321, format='bin'):\n",
    "    print(row)\n"
   ],
   "outputs": [
    {
     "name": "stdout",
     "output_type": "stream",
     "text": [
      "{'key_hex': 'D54F', 'K1_hex': '2867', 'K2_hex': '4027', 'plaintext_hex': '0534', 'ciphertext_hex': '4B45'}\n",
      "{'key_hex': '98E7', 'K1_hex': '47A0', 'K2_hex': 'E747', 'plaintext_hex': 'BCA0', 'ciphertext_hex': 'F450'}\n",
      "{'key_hex': '6327', 'K1_hex': 'B99E', 'K2_hex': '7BE5', 'plaintext_hex': '8A5D', 'ciphertext_hex': 'E599'}\n",
      "{'key_hex': 'DF59', 'K1_hex': '7E27', 'K2_hex': '1433', 'plaintext_hex': '52C8', 'ciphertext_hex': 'F02A'}\n",
      "{'key_hex': 'BF02', 'K1_hex': '9694', 'K2_hex': '74E0', 'plaintext_hex': '3F9F', 'ciphertext_hex': '96CD'}\n",
      "{'key_hex': 'DDA9', 'K1_hex': '7DD4', 'K2_hex': '9347', 'plaintext_hex': '85AD', 'ciphertext_hex': '5FD1'}\n",
      "{'key_hex': '5943', 'K1_hex': '6427', 'K2_hex': '0E29', 'plaintext_hex': '5FA5', 'ciphertext_hex': 'B54C'}\n",
      "{'key_hex': 'B5B5', 'K1_hex': '2693', 'K2_hex': 'A437', 'plaintext_hex': '2EBE', 'ciphertext_hex': 'E511'}\n",
      "{'key_hex': 'D301', 'K1_hex': '1A1B', 'K2_hex': '1E05', 'plaintext_hex': '5549', 'ciphertext_hex': '7EA0'}\n",
      "{'key_hex': '4BD9', 'K1_hex': 'E53C', 'K2_hex': '1E22', 'plaintext_hex': '6953', 'ciphertext_hex': 'D53D'}\n",
      "{'key_hex': '27DA', 'K1_hex': 'A973', 'K2_hex': '2C5F', 'plaintext_hex': '6143', 'ciphertext_hex': '40BF'}\n",
      "{'key_hex': 'AEE1', 'K1_hex': '6180', 'K2_hex': 'C747', 'plaintext_hex': 'A4E2', 'ciphertext_hex': 'A6BD'}\n",
      "\n",
      "Sample pairs in binary format:\n",
      "{'key_bin': '1111101000110010', 'K1_bin': '1101000111100011', 'K2_bin': '0101111010111101', 'plaintext_bin': '0010001110001001', 'ciphertext_bin': '0010101011000111'}\n",
      "{'key_bin': '0111110100111000', 'K1_bin': '1001011010101110', 'K2_bin': '0101011011111000', 'plaintext_bin': '0101011101100111', 'ciphertext_bin': '0010011110111011'}\n",
      "{'key_bin': '1100100011111010', 'K1_bin': '0100111110110101', 'K2_bin': '0110110011011001', 'plaintext_bin': '0101100110110111', 'ciphertext_bin': '1100100000101001'}\n",
      "{'key_bin': '1010010110100010', 'K1_bin': '1000010100100111', 'K2_bin': '1110111111001000', 'plaintext_bin': '1001000111100001', 'ciphertext_bin': '1100100111110111'}\n",
      "{'key_bin': '0011110111110110', 'K1_bin': '0011101011001100', 'K2_bin': '1100011000001010', 'plaintext_bin': '0000111101100010', 'ciphertext_bin': '0001010100110111'}\n",
      "{'key_bin': '1001001001100010', 'K1_bin': '1011101011011000', 'K2_bin': '1110010000111100', 'plaintext_bin': '1110010010110111', 'ciphertext_bin': '0101011100111000'}\n",
      "{'key_bin': '0000110000011011', 'K1_bin': '1011100010100011', 'K2_bin': '0011100010011011', 'plaintext_bin': '0010011001101110', 'ciphertext_bin': '0101000001111000'}\n",
      "{'key_bin': '0011101110110001', 'K1_bin': '1111100001001001', 'K2_bin': '1110010110101100', 'plaintext_bin': '0110001000011011', 'ciphertext_bin': '1101000100011000'}\n",
      "{'key_bin': '0110101000101101', 'K1_bin': '0000000000101101', 'K2_bin': '1101101011110111', 'plaintext_bin': '0010011100101110', 'ciphertext_bin': '0110100101101100'}\n",
      "{'key_bin': '0001000110110101', 'K1_bin': '1000001000110111', 'K2_bin': '1110100111011110', 'plaintext_bin': '1110001010110110', 'ciphertext_bin': '1010010011010100'}\n",
      "{'key_bin': '1011111011100111', 'K1_bin': '0110000110000110', 'K2_bin': '1101011101010001', 'plaintext_bin': '1010001010000100', 'ciphertext_bin': '1000111010100000'}\n",
      "{'key_bin': '1100011000001111', 'K1_bin': '0011111100110000', 'K2_bin': '1001010010100100', 'plaintext_bin': '0110000101100001', 'ciphertext_bin': '1111101010010000'}\n"
     ]
    }
   ],
   "execution_count": 128
  },
  {
   "cell_type": "code",
   "id": "4e124e74-18e3-4aea-bff2-2f5ccf796e33",
   "metadata": {
    "ExecuteTime": {
     "end_time": "2025-10-28T19:11:58.414849Z",
     "start_time": "2025-10-28T19:11:58.413295Z"
    }
   },
   "source": [],
   "outputs": [],
   "execution_count": null
  },
  {
   "cell_type": "code",
   "metadata": {
    "ExecuteTime": {
     "end_time": "2025-10-28T19:11:58.431874Z",
     "start_time": "2025-10-28T19:11:58.427419Z"
    }
   },
   "source": [
    "# =============================\n",
    "# Cell 11 - Meet-in-the-middle helpers\n",
    "# =============================\n",
    "\n",
    "def double_round_encrypt(plaintext, K1, K2):\n",
    "    \"\"\"Encrypt a block using independent round keys.\"\"\"\n",
    "    return encrypt_round2(encrypt_round1(plaintext, K1), K2)\n",
    "\n",
    "def double_round_decrypt(ciphertext, K1, K2):\n",
    "    \"\"\"Decrypt a block using independent round keys.\"\"\"\n",
    "    return decrypt_round1(decrypt_round2(ciphertext, K2), K1)\n",
    "\n",
    "def meet_in_the_middle_attack(pairs):\n",
    "    \"\"\"Recover candidate (K1, K2) pairs from plaintext/ciphertext examples.\n",
    "\n",
    "    Args:\n",
    "        Plaintext/ciphertext pairs.\n",
    "\n",
    "    Returns:\n",
    "        Sorted key-pair candidates consistent with all pairs.\n",
    "    \"\"\"\n",
    "    pairs = list(pairs)\n",
    "    if not pairs:\n",
    "        raise ValueError('At least one plaintext/ciphertext pair is required')\n",
    "\n",
    "    plaintext0, ciphertext0 = pairs[0]\n",
    "    forward_map = defaultdict(list)\n",
    "    for K1 in range(0x10000):\n",
    "        intermediate = encrypt_round1(plaintext0, K1)\n",
    "        forward_map[intermediate].append(K1)\n",
    "\n",
    "    candidates = set()\n",
    "    for K2 in range(0x10000):\n",
    "        intermediate = decrypt_round2(ciphertext0, K2)\n",
    "        if intermediate in forward_map:\n",
    "            for K1 in forward_map[intermediate]:\n",
    "                candidates.add((K1, K2))\n",
    "\n",
    "    for plaintext, ciphertext in pairs[1:]:\n",
    "        candidates = {\n",
    "            (K1, K2)\n",
    "            for (K1, K2) in candidates\n",
    "            if double_round_encrypt(plaintext, K1, K2) == ciphertext\n",
    "        }\n",
    "        if not candidates:\n",
    "            break\n",
    "\n",
    "    # print('Sorted candidates ', sorted(candidates))\n",
    "\n",
    "    return sorted(candidates)\n"
   ],
   "id": "1188901aa5b9f169",
   "outputs": [],
   "execution_count": 129
  },
  {
   "cell_type": "code",
   "metadata": {
    "ExecuteTime": {
     "end_time": "2025-10-28T19:12:01.744682Z",
     "start_time": "2025-10-28T19:11:58.436442Z"
    }
   },
   "source": [
    "# =============================\n",
    "# Cell 12 - Meet-in-the-middle attack\n",
    "# =============================\n",
    "\n",
    "secret_K1 = 0x1234\n",
    "secret_K2 = 0xABCD\n",
    "plaintext_samples = [0x0123, 0x4567, 0x89AB, 0xFEDC, 0x0F0F]\n",
    "pairs_for_attack = [\n",
    "    (plaintext, double_round_encrypt(plaintext, secret_K1, secret_K2))\n",
    "    for plaintext in plaintext_samples\n",
    "]\n",
    "\n",
    "final_candidates = None\n",
    "\n",
    "for count in range(1, len(pairs_for_attack) + 1):\n",
    "    subset = pairs_for_attack[:count]\n",
    "    candidates = meet_in_the_middle_attack(subset)\n",
    "    final_candidates = candidates\n",
    "    print(f'Using {count} plaintext/ciphertext pair(s) -> {len(candidates)} candidate key pair(s)')\n",
    "\n",
    "    preview = candidates if len(candidates) <= 5 else candidates[:5]\n",
    "    for K1, K2 in preview:\n",
    "        print(f'  Candidate -> K1={K1:04X}, K2={K2:04X}')\n",
    "    if len(candidates) > 5:\n",
    "        print('  ...')\n",
    "\n",
    "if final_candidates:\n",
    "    final_count = len(final_candidates)\n",
    "    if final_count == 1:\n",
    "        recovered_K1, recovered_K2 = final_candidates[0]\n",
    "        print('Unique key pair recovered.')\n",
    "    else:\n",
    "        recovered_K1, recovered_K2 = next(\n",
    "            ((K1, K2) for (K1, K2) in final_candidates if (K1, K2) == (secret_K1, secret_K2)),\n",
    "            final_candidates[0],\n",
    "        )\n",
    "        print(f'Multiple candidates remain ({final_count}). Displaying one consistent pair:')\n",
    "\n",
    "\n",
    "    plaintext_to_recover = 0xFFFF\n",
    "\n",
    "    ciphertext_example = double_round_encrypt(plaintext_to_recover, secret_K1, secret_K2)\n",
    "\n",
    "    recovered_plaintext = double_round_decrypt(ciphertext_example, recovered_K1, recovered_K2)\n",
    "\n",
    "    print(f'Using recovered keys K1={recovered_K1:04X}, K2={recovered_K2:04X}')\n",
    "    print(f'  Decrypting ciphertext {ciphertext_example:04X} yields plaintext {recovered_plaintext:04X}')\n",
    "    assert recovered_plaintext == plaintext_to_recover\n",
    "else:\n",
    "    print('No key pairs were recovered. Collect additional pairs and retry.')\n"
   ],
   "id": "668f064481652b9f",
   "outputs": [
    {
     "name": "stdout",
     "output_type": "stream",
     "text": [
      "Using 1 plaintext/ciphertext pair(s) -> 65536 candidate key pair(s)\n",
      "  Candidate -> K1=0000, K2=BD0F\n",
      "  Candidate -> K1=0001, K2=BD4F\n",
      "  Candidate -> K1=0002, K2=BD1F\n",
      "  Candidate -> K1=0003, K2=BD2F\n",
      "  Candidate -> K1=0004, K2=BDCF\n",
      "  ...\n",
      "Using 2 plaintext/ciphertext pair(s) -> 64 candidate key pair(s)\n",
      "  Candidate -> K1=1231, K2=AB4D\n",
      "  Candidate -> K1=1234, K2=ABCD\n",
      "  Candidate -> K1=1239, K2=ABBD\n",
      "  Candidate -> K1=123C, K2=AB3D\n",
      "  Candidate -> K1=12E1, K2=AB48\n",
      "  ...\n",
      "Using 3 plaintext/ciphertext pair(s) -> 8 candidate key pair(s)\n",
      "  Candidate -> K1=1234, K2=ABCD\n",
      "  Candidate -> K1=1734, K2=A3CD\n",
      "  Candidate -> K1=1A34, K2=A4CD\n",
      "  Candidate -> K1=1F34, K2=ACCD\n",
      "  Candidate -> K1=8234, K2=3BCD\n",
      "  ...\n",
      "Using 4 plaintext/ciphertext pair(s) -> 4 candidate key pair(s)\n",
      "  Candidate -> K1=1234, K2=ABCD\n",
      "  Candidate -> K1=1734, K2=A3CD\n",
      "  Candidate -> K1=1A34, K2=A4CD\n",
      "  Candidate -> K1=1F34, K2=ACCD\n",
      "Using 5 plaintext/ciphertext pair(s) -> 1 candidate key pair(s)\n",
      "  Candidate -> K1=1234, K2=ABCD\n",
      "Unique key pair recovered.\n",
      "Using recovered keys K1=1234, K2=ABCD\n",
      "  Decrypting ciphertext 8B0E yields plaintext FFFF\n"
     ]
    }
   ],
   "execution_count": 130
  }
 ],
 "metadata": {
  "kernelspec": {
   "display_name": "Python 3 (ipykernel)",
   "language": "python",
   "name": "python3"
  },
  "language_info": {
   "codemirror_mode": {
    "name": "ipython",
    "version": 3
   },
   "file_extension": ".py",
   "mimetype": "text/x-python",
   "name": "python",
   "nbconvert_exporter": "python",
   "pygments_lexer": "ipython3",
   "version": "3.13.5"
  }
 },
 "nbformat": 4,
 "nbformat_minor": 5
}
